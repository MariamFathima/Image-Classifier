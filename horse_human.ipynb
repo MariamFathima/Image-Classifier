{
 "cells": [
  {
   "cell_type": "code",
   "execution_count": 1,
   "metadata": {},
   "outputs": [],
   "source": [
    "import os\n",
    "import zipfile\n",
    "import tensorflow as tf\n"
   ]
  },
  {
   "cell_type": "code",
   "execution_count": 2,
   "metadata": {},
   "outputs": [],
   "source": [
    "local = '/home/xia/horse-or-human.zip'\n",
    "zip_ref = zipfile.ZipFile(local,'r')\n",
    "zip_ref.extractall('/home/xia/horse-or-human')\n",
    "zip_ref.close()"
   ]
  },
  {
   "cell_type": "code",
   "execution_count": 3,
   "metadata": {},
   "outputs": [],
   "source": [
    "train_horse = os.path.join('/home/xia/horse-or-human/train/horses')\n",
    "train_human = os.path.join('/home/xia/horse-or-human/train/humans')\n",
    "val_horse = os.path.join('/home/xia/horse-or-human/validation/horses')\n",
    "val_human = os.path.join('/home/xia/horse-or-human/validation/humans')"
   ]
  },
  {
   "cell_type": "code",
   "execution_count": 4,
   "metadata": {},
   "outputs": [],
   "source": [
    "my_model = tf.keras.models.Sequential([\n",
    "    tf.keras.layers.Conv2D(16,(3,3),activation='relu',input_shape=(150,150,3)),\n",
    "    tf.keras.layers.MaxPool2D(2,2),\n",
    "    tf.keras.layers.Conv2D(32,(3,3),activation='relu'),\n",
    "    tf.keras.layers.MaxPool2D(2,2),\n",
    "    tf.keras.layers.Conv2D(64,(3,3,),activation='relu'),\n",
    "    tf.keras.layers.MaxPool2D(2,2),\n",
    "    tf.keras.layers.Flatten(),\n",
    "    tf.keras.layers.Dense(512,activation='relu'),\n",
    "    tf.keras.layers.Dense(1,activation='sigmoid')\n",
    "])"
   ]
  },
  {
   "cell_type": "code",
   "execution_count": 5,
   "metadata": {},
   "outputs": [
    {
     "name": "stdout",
     "output_type": "stream",
     "text": [
      "Model: \"sequential\"\n",
      "_________________________________________________________________\n",
      "Layer (type)                 Output Shape              Param #   \n",
      "=================================================================\n",
      "conv2d (Conv2D)              (None, 148, 148, 16)      448       \n",
      "_________________________________________________________________\n",
      "max_pooling2d (MaxPooling2D) (None, 74, 74, 16)        0         \n",
      "_________________________________________________________________\n",
      "conv2d_1 (Conv2D)            (None, 72, 72, 32)        4640      \n",
      "_________________________________________________________________\n",
      "max_pooling2d_1 (MaxPooling2 (None, 36, 36, 32)        0         \n",
      "_________________________________________________________________\n",
      "conv2d_2 (Conv2D)            (None, 34, 34, 64)        18496     \n",
      "_________________________________________________________________\n",
      "max_pooling2d_2 (MaxPooling2 (None, 17, 17, 64)        0         \n",
      "_________________________________________________________________\n",
      "flatten (Flatten)            (None, 18496)             0         \n",
      "_________________________________________________________________\n",
      "dense (Dense)                (None, 512)               9470464   \n",
      "_________________________________________________________________\n",
      "dense_1 (Dense)              (None, 1)                 513       \n",
      "=================================================================\n",
      "Total params: 9,494,561\n",
      "Trainable params: 9,494,561\n",
      "Non-trainable params: 0\n",
      "_________________________________________________________________\n"
     ]
    }
   ],
   "source": [
    "my_model.summary()"
   ]
  },
  {
   "cell_type": "code",
   "execution_count": 6,
   "metadata": {},
   "outputs": [],
   "source": [
    "from tensorflow.keras.optimizers import RMSprop\n",
    "my_model.compile(loss='binary_crossentropy',\n",
    "             optimizers=RMSprop(lr=0.001),\n",
    "             metrics=['acc'])"
   ]
  },
  {
   "cell_type": "code",
   "execution_count": 7,
   "metadata": {},
   "outputs": [
    {
     "name": "stdout",
     "output_type": "stream",
     "text": [
      "Found 1027 images belonging to 2 classes.\n",
      "Found 256 images belonging to 2 classes.\n"
     ]
    }
   ],
   "source": [
    "from tensorflow.keras.preprocessing.image import ImageDataGenerator\n",
    "\n",
    "train_data = ImageDataGenerator(rescale=1/255)\n",
    "val_data = ImageDataGenerator(rescale=1/255)\n",
    "\n",
    "train_img = train_data.flow_from_directory('/home/xia/horse-or-human/train/',\n",
    "target_size=(150,150),\n",
    "batch_size = 128, class_mode='binary')\n",
    "\n",
    "val_img = val_data.flow_from_directory('/home/xia/horse-or-human/validation/',\n",
    "                                      target_size=(150,150),\n",
    "                                      batch_size = 32,\n",
    "                                       class_mode = 'binary')"
   ]
  },
  {
   "cell_type": "code",
   "execution_count": 8,
   "metadata": {},
   "outputs": [
    {
     "name": "stdout",
     "output_type": "stream",
     "text": [
      "Epoch 1/15\n",
      "8/8 [==============================] - 32s 4s/step - loss: 1.2890 - acc: 0.5973 - val_loss: 1.8401 - val_acc: 0.5000\n",
      "Epoch 2/15\n",
      "8/8 [==============================] - 32s 4s/step - loss: 0.5997 - acc: 0.6963 - val_loss: 0.5303 - val_acc: 0.8438\n",
      "Epoch 3/15\n",
      "8/8 [==============================] - 27s 3s/step - loss: 0.2945 - acc: 0.8773 - val_loss: 2.7184 - val_acc: 0.5742\n",
      "Epoch 4/15\n",
      "8/8 [==============================] - 33s 4s/step - loss: 0.2058 - acc: 0.9131 - val_loss: 1.2451 - val_acc: 0.8164\n",
      "Epoch 5/15\n",
      "8/8 [==============================] - 28s 4s/step - loss: 0.1859 - acc: 0.9432 - val_loss: 1.7366 - val_acc: 0.7422\n",
      "Epoch 6/15\n",
      "8/8 [==============================] - 37s 5s/step - loss: 0.0634 - acc: 0.9775 - val_loss: 2.0090 - val_acc: 0.7188\n",
      "Epoch 7/15\n",
      "8/8 [==============================] - 26s 3s/step - loss: 0.1946 - acc: 0.9341 - val_loss: 0.8064 - val_acc: 0.8984\n",
      "Epoch 8/15\n",
      "8/8 [==============================] - 36s 5s/step - loss: 0.2677 - acc: 0.9297 - val_loss: 1.2369 - val_acc: 0.8203\n",
      "Epoch 9/15\n",
      "8/8 [==============================] - 31s 4s/step - loss: 0.0266 - acc: 0.9933 - val_loss: 1.9568 - val_acc: 0.7852\n",
      "Epoch 10/15\n",
      "8/8 [==============================] - 32s 4s/step - loss: 0.0118 - acc: 0.9956 - val_loss: 1.2831 - val_acc: 0.8438\n",
      "Epoch 11/15\n",
      "8/8 [==============================] - 33s 4s/step - loss: 0.0042 - acc: 1.0000 - val_loss: 1.6447 - val_acc: 0.8281\n",
      "Epoch 12/15\n",
      "8/8 [==============================] - 35s 4s/step - loss: 0.0028 - acc: 1.0000 - val_loss: 1.7992 - val_acc: 0.8281\n",
      "Epoch 13/15\n",
      "8/8 [==============================] - 30s 4s/step - loss: 0.0012 - acc: 1.0000 - val_loss: 1.5297 - val_acc: 0.8516\n",
      "Epoch 14/15\n",
      "8/8 [==============================] - 29s 4s/step - loss: 1.0223 - acc: 0.9221 - val_loss: 1.3497 - val_acc: 0.8672\n",
      "Epoch 15/15\n",
      "8/8 [==============================] - 28s 4s/step - loss: 1.1765 - acc: 0.8954 - val_loss: 1.8883 - val_acc: 0.8203\n"
     ]
    }
   ],
   "source": [
    "history = my_model.fit_generator(\n",
    "train_img,\n",
    "steps_per_epoch=8,\n",
    "epochs=15,\n",
    "verbose=1,\n",
    "validation_data = val_img,\n",
    "validation_steps = 8)"
   ]
  },
  {
   "cell_type": "code",
   "execution_count": 18,
   "metadata": {},
   "outputs": [
    {
     "name": "stdout",
     "output_type": "stream",
     "text": [
      "[1.]\n",
      " is a human\n"
     ]
    }
   ],
   "source": [
    "import numpy as np\n",
    "from ipywidgets import FileUpload\n",
    "from keras.preprocessing import image\n",
    "\n",
    "upload = FileUpload(accept='',multiple=False)\n",
    "\n",
    "  # predicting images\n",
    "path = '/home/xia/images.jpeg'\n",
    "img = image.load_img(path, target_size=(150, 150))\n",
    "x = image.img_to_array(img)\n",
    "x = np.expand_dims(x, axis=0)\n",
    "\n",
    "images = np.vstack([x])\n",
    "classes = my_model.predict(images, batch_size=10)\n",
    "print(classes[0])\n",
    "if classes[0]>0.5:\n",
    "    print(\" is a human\")\n",
    "else:\n",
    "    print(\" is a horse\")"
   ]
  },
  {
   "cell_type": "code",
   "execution_count": null,
   "metadata": {},
   "outputs": [],
   "source": []
  }
 ],
 "metadata": {
  "kernelspec": {
   "display_name": "Python 3",
   "language": "python",
   "name": "python3"
  },
  "language_info": {
   "codemirror_mode": {
    "name": "ipython",
    "version": 3
   },
   "file_extension": ".py",
   "mimetype": "text/x-python",
   "name": "python",
   "nbconvert_exporter": "python",
   "pygments_lexer": "ipython3",
   "version": "3.7.4"
  }
 },
 "nbformat": 4,
 "nbformat_minor": 2
}
